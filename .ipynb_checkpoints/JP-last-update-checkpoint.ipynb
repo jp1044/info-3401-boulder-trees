{
 "cells": [
  {
   "cell_type": "code",
   "execution_count": 18,
   "metadata": {},
   "outputs": [],
   "source": [
    "import pandas as pd\n",
    "import numpy as np\n",
    "import seaborn as sb\n",
    "%matplotlib inline"
   ]
  },
  {
   "cell_type": "code",
   "execution_count": 3,
   "metadata": {},
   "outputs": [],
   "source": [
    "df = pd.read_csv(\"Trees_Public.csv\")"
   ]
  },
  {
   "cell_type": "code",
   "execution_count": 5,
   "metadata": {},
   "outputs": [
    {
     "data": {
      "text/plain": [
       "Index(['FID', 'ID', 'UNIQUEID', 'ADDRESS', 'SUFFIX', 'STREET', 'ONSTR',\n",
       "       'FROMSTR', 'TOSTR', 'SIDE', 'SITE', 'SPP', 'DBH', 'CULTIVAR',\n",
       "       'CONDITION', 'INSPECT', 'MT', 'MT2', 'TTYPE', 'MEMTREE', 'DISEASEDEF',\n",
       "       'STRUTDEFEC', 'LOCTYPE', 'SITECAT', 'HOOD', 'LOCATION', 'JURISDIC',\n",
       "       'TSIP', 'GRATESZ', 'GUARDSZ', 'EAB', 'INV_DATE', 'INV_TIME',\n",
       "       'INSPECT_DT', 'INSPECT_TM', 'NOTES', 'ACTIVE', 'COMMONNAME', 'GENUS'],\n",
       "      dtype='object')"
      ]
     },
     "execution_count": 5,
     "metadata": {},
     "output_type": "execute_result"
    }
   ],
   "source": [
    "df.columns"
   ]
  },
  {
   "cell_type": "code",
   "execution_count": 15,
   "metadata": {},
   "outputs": [],
   "source": [
    "ash_filtered_condition = df[['CONDITION', 'COMMONNAME']][(df['COMMONNAME'] == 'White Ash') | (df['COMMONNAME'] == 'Green Ash')]"
   ]
  },
  {
   "cell_type": "code",
   "execution_count": 20,
   "metadata": {},
   "outputs": [
    {
     "data": {
      "text/plain": [
       "Index(['CONDITION_Dead', 'CONDITION_Excellent', 'CONDITION_Fair',\n",
       "       'CONDITION_Good', 'CONDITION_Poor', 'CONDITION_Very Poor',\n",
       "       'COMMONNAME_Green Ash', 'COMMONNAME_White Ash'],\n",
       "      dtype='object')"
      ]
     },
     "execution_count": 20,
     "metadata": {},
     "output_type": "execute_result"
    }
   ],
   "source": [
    "ash_filtered_condition = pd.get_dummies(ash_filtered_condition)\n",
    "ash_filtered_condition.columns"
   ]
  },
  {
   "cell_type": "code",
   "execution_count": 24,
   "metadata": {},
   "outputs": [
    {
     "data": {
      "text/plain": [
       "array([[ 1.        , -0.03338306],\n",
       "       [-0.03338306,  1.        ]])"
      ]
     },
     "execution_count": 24,
     "metadata": {},
     "output_type": "execute_result"
    }
   ],
   "source": [
    "np.corrcoef(ash_filtered_condition['CONDITION_Poor'], ash_filtered_condition['COMMONNAME_White Ash'])"
   ]
  },
  {
   "cell_type": "code",
   "execution_count": null,
   "metadata": {},
   "outputs": [],
   "source": []
  }
 ],
 "metadata": {
  "kernelspec": {
   "display_name": "Python 3",
   "language": "python",
   "name": "python3"
  },
  "language_info": {
   "codemirror_mode": {
    "name": "ipython",
    "version": 3
   },
   "file_extension": ".py",
   "mimetype": "text/x-python",
   "name": "python",
   "nbconvert_exporter": "python",
   "pygments_lexer": "ipython3",
   "version": "3.6.2"
  }
 },
 "nbformat": 4,
 "nbformat_minor": 2
}
