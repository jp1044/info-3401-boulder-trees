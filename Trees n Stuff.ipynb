{
 "cells": [
  {
   "cell_type": "code",
   "execution_count": 1,
   "metadata": {
    "collapsed": true
   },
   "outputs": [],
   "source": [
    "import pandas as pd\n",
    "import numpy as np\n",
    "import operator"
   ]
  },
  {
   "cell_type": "markdown",
   "metadata": {},
   "source": [
    "Questions for Christy:\n",
    "1.) EAB column\n",
    "2.) Disease Def column: differences between values\n",
    "3.) What makes a street diverse?"
   ]
  },
  {
   "cell_type": "code",
   "execution_count": 2,
   "metadata": {},
   "outputs": [],
   "source": [
    "df = pd.read_csv(\"Trees_Public.csv\")"
   ]
  },
  {
   "cell_type": "code",
   "execution_count": 3,
   "metadata": {},
   "outputs": [],
   "source": [
    "#df.columns"
   ]
  },
  {
   "cell_type": "code",
   "execution_count": 4,
   "metadata": {},
   "outputs": [],
   "source": [
    "def dic(c):\n",
    "    d = {}\n",
    "    for i in c:\n",
    "        try:\n",
    "            d[i]+=1\n",
    "        except:\n",
    "            d[i]=1\n",
    "    import operator\n",
    "    d = sorted(d.items(), key=operator.itemgetter(1),reverse = True)\n",
    "    return d\n",
    "def dic2(c):\n",
    "    a = {}\n",
    "    for i in c:\n",
    "        try:\n",
    "            a[i]+=1\n",
    "        except:\n",
    "            a[i]=1\n",
    "    import operator\n",
    "    a = sorted(a.items(), key=operator.itemgetter(1),reverse = True)\n",
    "    t=0\n",
    "    for i in a:\n",
    "        t+=i[1]\n",
    "    d = []\n",
    "    for i in a:\n",
    "        d.append([i[0],float(i[1])/t])\n",
    "    return d\n",
    "def dic3(c):\n",
    "    d={}\n",
    "    for i in c:\n",
    "        try:\n",
    "            d[df[df['STREET']==i[0]]['HOOD'].iloc[0]]+=i[1]\n",
    "        except:\n",
    "            d[df[df['STREET']==i[0]]['HOOD'].iloc[0]]=i[1]\n",
    "    for i in df['HOOD']:\n",
    "        try:\n",
    "            d[i]\n",
    "        except:\n",
    "            if i == i:\n",
    "                d[i]=0\n",
    "    d = sorted(d.items(), key=operator.itemgetter(1),reverse = True)\n",
    "    return d"
   ]
  },
  {
   "cell_type": "code",
   "execution_count": null,
   "metadata": {},
   "outputs": [],
   "source": []
  },
  {
   "cell_type": "code",
   "execution_count": 5,
   "metadata": {},
   "outputs": [
    {
     "name": "stderr",
     "output_type": "stream",
     "text": [
      "/anaconda3/lib/python3.6/site-packages/numpy/core/fromnumeric.py:2909: RuntimeWarning: Mean of empty slice.\n",
      "  out=out, **kwargs)\n",
      "/anaconda3/lib/python3.6/site-packages/numpy/core/_methods.py:80: RuntimeWarning: invalid value encountered in double_scalars\n",
      "  ret = ret.dtype.type(ret / rcount)\n"
     ]
    }
   ],
   "source": [
    "ash = df[df['COMMONNAME']=='Green Ash'].append(df[df['COMMONNAME']=='White Ash']) #Subset of tree dataset that only has ash trees\n",
    "mt_dic = dic(ash['MT'])  #dictionary of sorted values of Maintenance columns\n",
    "strs = df['STREET'].append(df['TOSTR']).append(df['FROMSTR']).append(df['ONSTR']).unique()\n",
    "\n",
    "strs_tree_counts={}\n",
    "for i in df['STREET'].unique():\n",
    "    e={}\n",
    "    for j in df[df['STREET']==i]['COMMONNAME']:\n",
    "        #e['Ash']=0\n",
    "        if j !=\"White Ash\" and j!=\"Green Ash\":\n",
    "            try:\n",
    "                e[j]+=1\n",
    "            except:\n",
    "                e[j]=1\n",
    "        else:\n",
    "            try:\n",
    "                e['Ash']+=1\n",
    "            except:\n",
    "                e['Ash']=1\n",
    "    strs_tree_counts[i]=[np.sum([values for key,values in e.items()]),e]\n",
    "for key,value in strs_tree_counts.items():\n",
    "    for a,b in value[1].items():\n",
    "        strs_tree_counts[key][1][a] = [b,float(b)/value[0]]\n",
    "\n",
    "bad_ash = ash[ash['MT']!='No Specific Maintenance Need']\n",
    "good_ash = ash[ash['MT']=='No Specific Maintenance Need']\n",
    "\n",
    "boulder_trees = dic(df['COMMONNAME'])\n",
    "\n",
    "bad_ash_strs =  [i for i in bad_ash['STREET'].unique()]\n",
    "bad_ash_strs_counts = sorted([[i,len(bad_ash[bad_ash['STREET'] ==i])] for i in bad_ash_strs], key = lambda num:num[1], reverse = True)\n",
    "good_ash_strs = [i for i in good_ash['STREET'].unique()]\n",
    "only_good_ash_strs = [i for i in good_ash['STREET'].unique() if i not in bad_ash_strs]\n",
    "only_bad_ash_strs = [i for i in bad_ash['STREET'].unique() if i not in good_ash_strs]\n",
    "both_ash_strs = [i for i in good_ash['STREET'].unique() if i in bad_ash['STREET'].unique()]\n",
    "both_ash_strs_percent = len(both_ash_strs)/len(strs)\n",
    "\n",
    "bad_strs_percent = len(bad_ash_strs)/len(strs)\n",
    "good_strs_percent = len(good_ash_strs)/len(strs)\n",
    "\n",
    "bad_ash_tofro_strs = bad_ash['TOSTR'].append(bad_ash['FROMSTR']).unique()\n",
    "\n",
    "\n",
    "at_risk_strs = [i for i in only_good_ash_strs if i in bad_ash_tofro_strs]\n",
    "\n",
    "at_risk_strs_counts = []\n",
    "for i in at_risk_strs:\n",
    "    at_risk_strs_counts.append([i,len(ash[ash['STREET']==i])])\n",
    "    \n",
    "at_risk_strs_sorted = sorted(at_risk_strs_counts, key=lambda num:num[1], reverse = True)\n",
    "\n",
    "at_risk_strs_d = {}\n",
    "for i in at_risk_strs_sorted:\n",
    "    at_risk_strs_d[i[0]]=i[1]\n",
    "    \n",
    "at_risk_strs_ash_dic = {}\n",
    "for i in at_risk_strs_sorted:\n",
    "    at_risk_strs_ash_dic[i[0]]=strs_tree_counts[i[0]][1]['Ash']\n",
    "    \n",
    "at_risk_hoods=dic3(at_risk_strs_sorted)\n",
    "bad_ash_hoods_counts = dic3(bad_ash_strs_counts)\n",
    "\n",
    "\n",
    "strs_trees_percent_dic = {}\n",
    "for i in df['COMMONNAME'].unique():\n",
    "    strs_trees_percent_dic[i]=np.mean([value[1][i][1] for key,value in strs_tree_counts.items() if i in value[1]])\n",
    "t=[value[1]['Ash'][1] for key,value in strs_tree_counts.items() if 'Ash'in value[1]]\n",
    "strs_trees_percent_dic['Ash']=np.mean(t)\n",
    "strs_trees_percent_dic_sorted = sorted(strs_trees_percent_dic.items(), key=operator.itemgetter(1),reverse = True)\n",
    "\n",
    "strs_trees_percent_dic_2 = {}\n",
    "for i in df['COMMONNAME'].unique():\n",
    "    t = []\n",
    "    for key,value in strs_tree_counts.items():\n",
    "        if i in value[1]:\n",
    "            t.append(np.mean(value[1][i][1]))\n",
    "        else:\n",
    "            t.append(0)\n",
    "    strs_trees_percent_dic_2[i]=np.mean(t)\n",
    "t=[]\n",
    "for key,value in strs_tree_counts.items():\n",
    "    if 'Ash' in value[1]:\n",
    "        t.append(value[1]['Ash'][1])\n",
    "    else:\n",
    "        t.append(0)\n",
    "strs_trees_percent_dic_2['Ash']=np.mean(t)\n",
    "strs_trees_percent_dic_sorted_2 = sorted(strs_trees_percent_dic_2.items(), key=operator.itemgetter(1),reverse = True)"
   ]
  },
  {
   "cell_type": "code",
   "execution_count": 6,
   "metadata": {},
   "outputs": [],
   "source": [
    "help_vars = {'ash': 'filtered Data frame that only includes ash trees',\n",
    "'mt_dic': 'sorted list of maintenance values for ash trees',\n",
    "'boulder_trees': 'quantities of each tree in boulder',\n",
    "'strs': 'list of all streets in boulder',\n",
    "\n",
    "'bad_ash': 'data frame of all ash trees that need maintenance',\n",
    "'bad_ash_strs': 'list of streets that have ash trees that need maintenance',\n",
    "'only_bad_ash_strs': 'list of streets that have ash trees and all of those trees need maintenance',\n",
    "'bad_ash_strs_counts': 'sorted list of streets and the amounts of bad ash trees they have',\n",
    "'bad_strs_percent': 'percent of streets in Boulder that have bad trees',\n",
    "'bad_ash_tofro_strs': 'list of streets that have another street touching it that have bad ash trees on it',\n",
    "'bad_ash_hoods_counts': 'sorted list of hoods and the amount of bad ash trees that it has',\n",
    "\n",
    "'good_ash': 'data frame of all ash trees that dont need maintenance',\n",
    "'good_ash_strs': 'list of all streets that have good ash trees on it',\n",
    "'only_good_ash_strs': 'list of streets that have ash trees and none of those trees need maintenance',\n",
    "'good_strs_percent': 'percent of streets in Boulder that have good ash trees',\n",
    "\n",
    "'both_ash_strs': 'list of streets that have some ash trees that need maintenance and some that dont',\n",
    "'both_ash_strs_percent': 'percent of streets in boulder that have both good & bad ash trees',\n",
    "\n",
    "'at_risk_strs': 'streets that have an ajoining street that has a tree that needs maintenance',\n",
    "'at_risk_strs_d': 'alphabetized dictionary of streets that have no bad trees and the amount of bad trees on ajoining streets',\n",
    "'at_risk_strs_sorted': 'list of streets that have no bad trees, sorted by how many bad trees are on ajoining streets',\n",
    "'at_risk_strs_ash_dic': 'dictionary of streets that have neighboring streets with bad ash trees, and the amount of ash trees and the percentage of ash tree makeup of that street',\n",
    "'at_risk_hoods': 'list of hoods, sorted by the amount of at risk streets they have',\n",
    "\n",
    "'strs_trees_percent_dic': 'alphabetized dictionary of each tree, and the average percentage that the tree makes up for streets that have that tree',\n",
    "'strs_trees_percent_dic_sorted': 'list of each tree, sorted by the average percentage that the tree makes up for streets that have that tree',\n",
    "\n",
    "'strs_trees_percent_dic_2': 'alphabetized dictionary of each tree, and the average percentage of trees that that tree makes up for every street',\n",
    "'strs_trees_percent_dic_sorted_2': 'list of each tree, sorted by average percentage of trees that that tree makes up for every street',\n",
    "\n",
    "'strs_tree_counts': 'Dictionary of each street. values are counts of trees on that street, and another dictionary that has each type of tree on that street, and the count of that tree and the percentage makeup of that tree on that street'}"
   ]
  },
  {
   "cell_type": "code",
   "execution_count": null,
   "metadata": {},
   "outputs": [],
   "source": []
  },
  {
   "cell_type": "code",
   "execution_count": null,
   "metadata": {
    "collapsed": true
   },
   "outputs": [],
   "source": []
  }
 ],
 "metadata": {
  "kernelspec": {
   "display_name": "Python 3",
   "language": "python",
   "name": "python3"
  },
  "language_info": {
   "codemirror_mode": {
    "name": "ipython",
    "version": 3
   },
   "file_extension": ".py",
   "mimetype": "text/x-python",
   "name": "python",
   "nbconvert_exporter": "python",
   "pygments_lexer": "ipython3",
   "version": "3.6.3"
  }
 },
 "nbformat": 4,
 "nbformat_minor": 2
}
