{
 "cells": [
  {
   "cell_type": "code",
   "execution_count": 36,
   "metadata": {},
   "outputs": [],
   "source": [
    "import pandas as pd\n",
    "import numpy as np\n",
    "import seaborn as sb\n",
    "%matplotlib inline"
   ]
  },
  {
   "cell_type": "code",
   "execution_count": 3,
   "metadata": {},
   "outputs": [],
   "source": [
    "df = pd.read_csv(\"Trees_Public.csv\")"
   ]
  },
  {
   "cell_type": "code",
   "execution_count": 5,
   "metadata": {},
   "outputs": [
    {
     "data": {
      "text/plain": [
       "Index(['FID', 'ID', 'UNIQUEID', 'ADDRESS', 'SUFFIX', 'STREET', 'ONSTR',\n",
       "       'FROMSTR', 'TOSTR', 'SIDE', 'SITE', 'SPP', 'DBH', 'CULTIVAR',\n",
       "       'CONDITION', 'INSPECT', 'MT', 'MT2', 'TTYPE', 'MEMTREE', 'DISEASEDEF',\n",
       "       'STRUTDEFEC', 'LOCTYPE', 'SITECAT', 'HOOD', 'LOCATION', 'JURISDIC',\n",
       "       'TSIP', 'GRATESZ', 'GUARDSZ', 'EAB', 'INV_DATE', 'INV_TIME',\n",
       "       'INSPECT_DT', 'INSPECT_TM', 'NOTES', 'ACTIVE', 'COMMONNAME', 'GENUS'],\n",
       "      dtype='object')"
      ]
     },
     "execution_count": 5,
     "metadata": {},
     "output_type": "execute_result"
    }
   ],
   "source": [
    "df.columns"
   ]
  },
  {
   "cell_type": "code",
   "execution_count": 15,
   "metadata": {},
   "outputs": [],
   "source": [
    "ash_filtered_condition = df[['CONDITION', 'COMMONNAME']][(df['COMMONNAME'] == 'White Ash') | (df['COMMONNAME'] == 'Green Ash')]"
   ]
  },
  {
   "cell_type": "code",
   "execution_count": 34,
   "metadata": {},
   "outputs": [
    {
     "data": {
      "text/plain": [
       "0           BASELINE RD\n",
       "1           BASELINE RD\n",
       "2           BASELINE RD\n",
       "3           BASELINE RD\n",
       "4            CUL-DE-SAC\n",
       "5            CUL-DE-SAC\n",
       "6          FLAGSTAFF RD\n",
       "7          FLAGSTAFF RD\n",
       "8          FLAGSTAFF RD\n",
       "9          FLAGSTAFF RD\n",
       "10         FLAGSTAFF RD\n",
       "11         FLAGSTAFF RD\n",
       "12         FLAGSTAFF RD\n",
       "13           CASCADE AV\n",
       "14           CASCADE AV\n",
       "15              10TH ST\n",
       "16              10TH ST\n",
       "17           CASCADE AV\n",
       "18           CASCADE AV\n",
       "19           CASCADE AV\n",
       "20           CASCADE AV\n",
       "21           CASCADE AV\n",
       "22          BASELINE RD\n",
       "23          BASELINE RD\n",
       "24          BASELINE RD\n",
       "25          BASELINE RD\n",
       "26          BASELINE RD\n",
       "27           CASCADE AV\n",
       "28           CASCADE AV\n",
       "29          BASELINE RD\n",
       "              ...      \n",
       "50639    YELLOW PINE AV\n",
       "50640    YELLOW PINE AV\n",
       "50641    YELLOW PINE AV\n",
       "50642          ZAMIA PL\n",
       "50643          ZAMIA PL\n",
       "50644          ZAMIA PL\n",
       "50645          ZAMIA PL\n",
       "50646          ZAMIA PL\n",
       "50647          ZAMIA PL\n",
       "50648          ZAMIA PL\n",
       "50649    YELLOW PINE AV\n",
       "50650    YELLOW PINE AV\n",
       "50651    YELLOW PINE AV\n",
       "50652           18TH ST\n",
       "50653           18TH ST\n",
       "50654            6TH ST\n",
       "50655            6TH ST\n",
       "50656            6TH ST\n",
       "50657            6TH ST\n",
       "50658            6TH ST\n",
       "50659            6TH ST\n",
       "50660            6TH ST\n",
       "50661            6TH ST\n",
       "50662            6TH ST\n",
       "50663            6TH ST\n",
       "50664            6TH ST\n",
       "50665        CUL-DE-SAC\n",
       "50666        CUL-DE-SAC\n",
       "50667          ZAMIA CT\n",
       "50668          ZAMIA CT\n",
       "Name: FROMSTR, Length: 50669, dtype: object"
      ]
     },
     "execution_count": 34,
     "metadata": {},
     "output_type": "execute_result"
    }
   ],
   "source": [
    "df[['FROMSTR']"
   ]
  },
  {
   "cell_type": "code",
   "execution_count": 30,
   "metadata": {},
   "outputs": [
    {
     "data": {
      "text/plain": [
       "array([[1.        , 0.03338306],\n",
       "       [0.03338306, 1.        ]])"
      ]
     },
     "execution_count": 30,
     "metadata": {},
     "output_type": "execute_result"
    }
   ],
   "source": []
  },
  {
   "cell_type": "code",
   "execution_count": null,
   "metadata": {},
   "outputs": [],
   "source": []
  }
 ],
 "metadata": {
  "kernelspec": {
   "display_name": "Python 3",
   "language": "python",
   "name": "python3"
  },
  "language_info": {
   "codemirror_mode": {
    "name": "ipython",
    "version": 3
   },
   "file_extension": ".py",
   "mimetype": "text/x-python",
   "name": "python",
   "nbconvert_exporter": "python",
   "pygments_lexer": "ipython3",
   "version": "3.6.2"
  }
 },
 "nbformat": 4,
 "nbformat_minor": 2
}
