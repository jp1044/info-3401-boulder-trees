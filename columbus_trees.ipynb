{
 "cells": [
  {
   "cell_type": "code",
   "execution_count": 110,
   "metadata": {},
   "outputs": [],
   "source": [
    "import pandas as pd\n",
    "import seaborn as sb\n",
    "import altair as alt\n",
    "import numpy as np\n",
    "import matplotlib.pyplot as plt\n",
    "alt.renderers.enable('notebook')\n",
    "from matplotlib import rcParams\n",
    "rcParams.update({'figure.autolayout': True})\n",
    "%matplotlib inline"
   ]
  },
  {
   "cell_type": "code",
   "execution_count": 56,
   "metadata": {},
   "outputs": [],
   "source": [
    "df = pd.read_csv(\"Columbus_Public_Owned_Trees.csv\")"
   ]
  },
  {
   "cell_type": "code",
   "execution_count": 57,
   "metadata": {},
   "outputs": [
    {
     "data": {
      "text/html": [
       "<div>\n",
       "<style scoped>\n",
       "    .dataframe tbody tr th:only-of-type {\n",
       "        vertical-align: middle;\n",
       "    }\n",
       "\n",
       "    .dataframe tbody tr th {\n",
       "        vertical-align: top;\n",
       "    }\n",
       "\n",
       "    .dataframe thead th {\n",
       "        text-align: right;\n",
       "    }\n",
       "</style>\n",
       "<table border=\"1\" class=\"dataframe\">\n",
       "  <thead>\n",
       "    <tr style=\"text-align: right;\">\n",
       "      <th></th>\n",
       "      <th>X</th>\n",
       "      <th>Y</th>\n",
       "      <th>OBJECTID</th>\n",
       "      <th>SITE_CLASS</th>\n",
       "      <th>ADDRESS</th>\n",
       "      <th>ZIP</th>\n",
       "      <th>DIAM_BREAST_HEIGHT</th>\n",
       "      <th>MAINTENANCE</th>\n",
       "      <th>PLANTING_DATE</th>\n",
       "      <th>INSPECTION_DATE</th>\n",
       "      <th>...</th>\n",
       "      <th>LIFE_STAGE1</th>\n",
       "      <th>PLANNING_AREA</th>\n",
       "      <th>PARK</th>\n",
       "      <th>SP_CODE</th>\n",
       "      <th>ADDR_NUM</th>\n",
       "      <th>STR_PRE_DIR</th>\n",
       "      <th>STR_NAME</th>\n",
       "      <th>STR_TYPE</th>\n",
       "      <th>STR_SUF_DIR</th>\n",
       "      <th>HEIGHT</th>\n",
       "    </tr>\n",
       "  </thead>\n",
       "  <tbody>\n",
       "    <tr>\n",
       "      <th>0</th>\n",
       "      <td>-82.911315</td>\n",
       "      <td>39.969902</td>\n",
       "      <td>1</td>\n",
       "      <td>Street</td>\n",
       "      <td>102 MAYFAIR BLVD</td>\n",
       "      <td>43213.0</td>\n",
       "      <td>24.0</td>\n",
       "      <td>Structural Prune</td>\n",
       "      <td>NaN</td>\n",
       "      <td>2009-08-05T00:00:00.000Z</td>\n",
       "      <td>...</td>\n",
       "      <td>NaN</td>\n",
       "      <td>20A</td>\n",
       "      <td>NaN</td>\n",
       "      <td>Oak, Pin</td>\n",
       "      <td>102.0</td>\n",
       "      <td>NaN</td>\n",
       "      <td>MAYFAIR</td>\n",
       "      <td>BLVD</td>\n",
       "      <td>NaN</td>\n",
       "      <td>NaN</td>\n",
       "    </tr>\n",
       "    <tr>\n",
       "      <th>1</th>\n",
       "      <td>-83.071679</td>\n",
       "      <td>39.962138</td>\n",
       "      <td>3</td>\n",
       "      <td>Street</td>\n",
       "      <td>338 N OGDEN AVE</td>\n",
       "      <td>43204.0</td>\n",
       "      <td>34.0</td>\n",
       "      <td>Structural Prune</td>\n",
       "      <td>NaN</td>\n",
       "      <td>2009-08-27T00:00:00.000Z</td>\n",
       "      <td>...</td>\n",
       "      <td>NaN</td>\n",
       "      <td>15B</td>\n",
       "      <td>NaN</td>\n",
       "      <td>Maple, Sugar</td>\n",
       "      <td>338.0</td>\n",
       "      <td>N</td>\n",
       "      <td>OGDEN</td>\n",
       "      <td>AVE</td>\n",
       "      <td>NaN</td>\n",
       "      <td>NaN</td>\n",
       "    </tr>\n",
       "    <tr>\n",
       "      <th>2</th>\n",
       "      <td>-83.013483</td>\n",
       "      <td>39.979425</td>\n",
       "      <td>5</td>\n",
       "      <td>Street</td>\n",
       "      <td>343 WILBER AVE</td>\n",
       "      <td>43215.0</td>\n",
       "      <td>16.0</td>\n",
       "      <td>NaN</td>\n",
       "      <td>NaN</td>\n",
       "      <td>1996-02-14T00:00:00.000Z</td>\n",
       "      <td>...</td>\n",
       "      <td>NaN</td>\n",
       "      <td>13C</td>\n",
       "      <td>NaN</td>\n",
       "      <td>Planetree, London</td>\n",
       "      <td>343.0</td>\n",
       "      <td>NaN</td>\n",
       "      <td>WILBER</td>\n",
       "      <td>AVE</td>\n",
       "      <td>NaN</td>\n",
       "      <td>NaN</td>\n",
       "    </tr>\n",
       "    <tr>\n",
       "      <th>3</th>\n",
       "      <td>-83.013563</td>\n",
       "      <td>39.979429</td>\n",
       "      <td>6</td>\n",
       "      <td>Street</td>\n",
       "      <td>343 WILBER AVE</td>\n",
       "      <td>43215.0</td>\n",
       "      <td>15.0</td>\n",
       "      <td>NaN</td>\n",
       "      <td>NaN</td>\n",
       "      <td>1996-02-14T00:00:00.000Z</td>\n",
       "      <td>...</td>\n",
       "      <td>NaN</td>\n",
       "      <td>13C</td>\n",
       "      <td>NaN</td>\n",
       "      <td>Planetree, London</td>\n",
       "      <td>343.0</td>\n",
       "      <td>NaN</td>\n",
       "      <td>WILBER</td>\n",
       "      <td>AVE</td>\n",
       "      <td>NaN</td>\n",
       "      <td>NaN</td>\n",
       "    </tr>\n",
       "    <tr>\n",
       "      <th>4</th>\n",
       "      <td>-83.013565</td>\n",
       "      <td>39.979583</td>\n",
       "      <td>8</td>\n",
       "      <td>Street</td>\n",
       "      <td>352 WILBER AVE</td>\n",
       "      <td>43215.0</td>\n",
       "      <td>15.0</td>\n",
       "      <td>NaN</td>\n",
       "      <td>NaN</td>\n",
       "      <td>1996-02-14T00:00:00.000Z</td>\n",
       "      <td>...</td>\n",
       "      <td>NaN</td>\n",
       "      <td>13C</td>\n",
       "      <td>NaN</td>\n",
       "      <td>Planetree, London</td>\n",
       "      <td>352.0</td>\n",
       "      <td>NaN</td>\n",
       "      <td>WILBER</td>\n",
       "      <td>AVE</td>\n",
       "      <td>NaN</td>\n",
       "      <td>NaN</td>\n",
       "    </tr>\n",
       "  </tbody>\n",
       "</table>\n",
       "<p>5 rows × 22 columns</p>\n",
       "</div>"
      ],
      "text/plain": [
       "           X          Y  OBJECTID SITE_CLASS           ADDRESS      ZIP  \\\n",
       "0 -82.911315  39.969902         1     Street  102 MAYFAIR BLVD  43213.0   \n",
       "1 -83.071679  39.962138         3     Street   338 N OGDEN AVE  43204.0   \n",
       "2 -83.013483  39.979425         5     Street    343 WILBER AVE  43215.0   \n",
       "3 -83.013563  39.979429         6     Street    343 WILBER AVE  43215.0   \n",
       "4 -83.013565  39.979583         8     Street    352 WILBER AVE  43215.0   \n",
       "\n",
       "   DIAM_BREAST_HEIGHT       MAINTENANCE PLANTING_DATE  \\\n",
       "0                24.0  Structural Prune           NaN   \n",
       "1                34.0  Structural Prune           NaN   \n",
       "2                16.0               NaN           NaN   \n",
       "3                15.0               NaN           NaN   \n",
       "4                15.0               NaN           NaN   \n",
       "\n",
       "            INSPECTION_DATE  ...   LIFE_STAGE1 PLANNING_AREA PARK  \\\n",
       "0  2009-08-05T00:00:00.000Z  ...           NaN           20A  NaN   \n",
       "1  2009-08-27T00:00:00.000Z  ...           NaN           15B  NaN   \n",
       "2  1996-02-14T00:00:00.000Z  ...           NaN           13C  NaN   \n",
       "3  1996-02-14T00:00:00.000Z  ...           NaN           13C  NaN   \n",
       "4  1996-02-14T00:00:00.000Z  ...           NaN           13C  NaN   \n",
       "\n",
       "             SP_CODE ADDR_NUM STR_PRE_DIR  STR_NAME STR_TYPE STR_SUF_DIR  \\\n",
       "0           Oak, Pin    102.0         NaN   MAYFAIR     BLVD         NaN   \n",
       "1       Maple, Sugar    338.0           N     OGDEN      AVE         NaN   \n",
       "2  Planetree, London    343.0         NaN    WILBER      AVE         NaN   \n",
       "3  Planetree, London    343.0         NaN    WILBER      AVE         NaN   \n",
       "4  Planetree, London    352.0         NaN    WILBER      AVE         NaN   \n",
       "\n",
       "  HEIGHT  \n",
       "0    NaN  \n",
       "1    NaN  \n",
       "2    NaN  \n",
       "3    NaN  \n",
       "4    NaN  \n",
       "\n",
       "[5 rows x 22 columns]"
      ]
     },
     "execution_count": 57,
     "metadata": {},
     "output_type": "execute_result"
    }
   ],
   "source": [
    "df.head()"
   ]
  },
  {
   "cell_type": "code",
   "execution_count": 58,
   "metadata": {},
   "outputs": [
    {
     "data": {
      "text/plain": [
       "array(['Fair', 'Poor', 'Dead', 'Good', 'Excellent', nan], dtype=object)"
      ]
     },
     "execution_count": 58,
     "metadata": {},
     "output_type": "execute_result"
    }
   ],
   "source": [
    "df['CONDITION1'].unique()"
   ]
  },
  {
   "cell_type": "code",
   "execution_count": 63,
   "metadata": {},
   "outputs": [],
   "source": [
    "def isAsh(x):\n",
    "    if (\"Ash\" in str(x)):\n",
    "        return 1\n",
    "    else:\n",
    "        return 0\n",
    "apply_dict = {\"Poor\":1}\n",
    "\n",
    "df['isAsh'] = df['SP_CODE'].apply(isAsh)\n",
    "df_cond_dummies = pd.get_dummies(df,columns=[\"CONDITION1\"])"
   ]
  },
  {
   "cell_type": "code",
   "execution_count": 64,
   "metadata": {},
   "outputs": [
    {
     "data": {
      "text/plain": [
       "0.12242992564929091"
      ]
     },
     "execution_count": 64,
     "metadata": {},
     "output_type": "execute_result"
    }
   ],
   "source": [
    "len(df[df['isAsh']==1])/len(df)"
   ]
  },
  {
   "cell_type": "code",
   "execution_count": 65,
   "metadata": {
    "scrolled": true
   },
   "outputs": [
    {
     "data": {
      "text/plain": [
       "array([[ 1.        , -0.02206466],\n",
       "       [-0.02206466,  1.        ]])"
      ]
     },
     "execution_count": 65,
     "metadata": {},
     "output_type": "execute_result"
    }
   ],
   "source": [
    "np.corrcoef(df_cond_dummies['isAsh'], df_cond_dummies['CONDITION1_Excellent'])"
   ]
  },
  {
   "cell_type": "code",
   "execution_count": 113,
   "metadata": {},
   "outputs": [
    {
     "data": {
      "image/png": "[encoded data removed]",
      "text/plain": [
       "<Figure size 432x288 with 1 Axes>"
      ]
     },
     "metadata": {
      "needs_background": "light"
     },
     "output_type": "display_data"
    }
   ],
   "source": [
    "df_ash_con_gb = df[df['isAsh']==1].groupby(\"CONDITION1\").agg({'OBJECTID':'count'}).reset_index()\n",
    "\n",
    "fig = sb.barplot(data=df_ash_con_gb, x=\"CONDITION1\", y=\"OBJECTID\")\n",
    "fig.set_xlabel(\"Condition\")\n",
    "fig.set_ylabel(\"Count of Ash Trees\")\n",
    "plt.savefig(\"columbus_ash_tree_condition.png\", dpi=150)\n"
   ]
  },
  {
   "cell_type": "code",
   "execution_count": 114,
   "metadata": {},
   "outputs": [
    {
     "data": {
      "image/png": "[encoded data removed]",
      "text/plain": [
       "<Figure size 432x288 with 1 Axes>"
      ]
     },
     "metadata": {
      "needs_background": "light"
     },
     "output_type": "display_data"
    }
   ],
   "source": [
    "df_ash_con_gb = df[df['isAsh']==1].groupby(\"MAINTENANCE\").agg({'OBJECTID':'count'}).reset_index()\n",
    "\n",
    "fig = sb.barplot(data=df_ash_con_gb, x=\"MAINTENANCE\", y=\"OBJECTID\")\n",
    "fig.set_xlabel(\"Maintenance Action\")\n",
    "fig.set_ylabel(\"Count of Ash Trees\")\n",
    "fig.tick_params(axis='x', rotation=30)\n",
    "plt.savefig(\"columbus_ash_tree_maintain.png\", dpi=150)"
   ]
  },
  {
   "cell_type": "code",
   "execution_count": 49,
   "metadata": {},
   "outputs": [
    {
     "data": {
      "text/plain": [
       "Index(['X', 'Y', 'OBJECTID', 'SITE_CLASS', 'ADDRESS', 'ZIP',\n",
       "       'DIAM_BREAST_HEIGHT', 'MAINTENANCE', 'PLANTING_DATE', 'INSPECTION_DATE',\n",
       "       'RETIRED', 'LIFE_STAGE1', 'PLANNING_AREA', 'PARK', 'SP_CODE',\n",
       "       'ADDR_NUM', 'STR_PRE_DIR', 'STR_NAME', 'STR_TYPE', 'STR_SUF_DIR',\n",
       "       'HEIGHT', 'isAsh', 'CONDITION1_Dead', 'CONDITION1_Excellent',\n",
       "       'CONDITION1_Fair', 'CONDITION1_Good', 'CONDITION1_Poor'],\n",
       "      dtype='object')"
      ]
     },
     "execution_count": 49,
     "metadata": {},
     "output_type": "execute_result"
    }
   ],
   "source": [
    "df[df[\"isAsh\"]==1].columns"
   ]
  },
  {
   "cell_type": "code",
   "execution_count": null,
   "metadata": {},
   "outputs": [],
   "source": []
  }
 ],
 "metadata": {
  "kernelspec": {
   "display_name": "Python 3",
   "language": "python",
   "name": "python3"
  },
  "language_info": {
   "codemirror_mode": {
    "name": "ipython",
    "version": 3
   },
   "file_extension": ".py",
   "mimetype": "text/x-python",
   "name": "python",
   "nbconvert_exporter": "python",
   "pygments_lexer": "ipython3",
   "version": "3.6.2"
  }
 },
 "nbformat": 4,
 "nbformat_minor": 2
}
